{
 "cells": [
  {
   "cell_type": "code",
   "execution_count": 29,
   "metadata": {},
   "outputs": [],
   "source": [
    "# Dependencies\n",
    "import pandas as pd\n"
   ]
  },
  {
   "cell_type": "code",
   "execution_count": 30,
   "metadata": {},
   "outputs": [
    {
     "data": {
      "text/html": [
       "<div>\n",
       "<style scoped>\n",
       "    .dataframe tbody tr th:only-of-type {\n",
       "        vertical-align: middle;\n",
       "    }\n",
       "\n",
       "    .dataframe tbody tr th {\n",
       "        vertical-align: top;\n",
       "    }\n",
       "\n",
       "    .dataframe thead th {\n",
       "        text-align: right;\n",
       "    }\n",
       "</style>\n",
       "<table border=\"1\" class=\"dataframe\">\n",
       "  <thead>\n",
       "    <tr style=\"text-align: right;\">\n",
       "      <th></th>\n",
       "      <th>Purchase ID</th>\n",
       "      <th>SN</th>\n",
       "      <th>Age</th>\n",
       "      <th>Gender</th>\n",
       "      <th>Item ID</th>\n",
       "      <th>Item Name</th>\n",
       "      <th>Price</th>\n",
       "    </tr>\n",
       "  </thead>\n",
       "  <tbody>\n",
       "    <tr>\n",
       "      <th>0</th>\n",
       "      <td>0</td>\n",
       "      <td>Lisim78</td>\n",
       "      <td>20</td>\n",
       "      <td>Male</td>\n",
       "      <td>108</td>\n",
       "      <td>Extraction, Quickblade Of Trembling Hands</td>\n",
       "      <td>3.53</td>\n",
       "    </tr>\n",
       "    <tr>\n",
       "      <th>1</th>\n",
       "      <td>1</td>\n",
       "      <td>Lisovynya38</td>\n",
       "      <td>40</td>\n",
       "      <td>Male</td>\n",
       "      <td>143</td>\n",
       "      <td>Frenzied Scimitar</td>\n",
       "      <td>1.56</td>\n",
       "    </tr>\n",
       "    <tr>\n",
       "      <th>2</th>\n",
       "      <td>2</td>\n",
       "      <td>Ithergue48</td>\n",
       "      <td>24</td>\n",
       "      <td>Male</td>\n",
       "      <td>92</td>\n",
       "      <td>Final Critic</td>\n",
       "      <td>4.88</td>\n",
       "    </tr>\n",
       "    <tr>\n",
       "      <th>3</th>\n",
       "      <td>3</td>\n",
       "      <td>Chamassasya86</td>\n",
       "      <td>24</td>\n",
       "      <td>Male</td>\n",
       "      <td>100</td>\n",
       "      <td>Blindscythe</td>\n",
       "      <td>3.27</td>\n",
       "    </tr>\n",
       "    <tr>\n",
       "      <th>4</th>\n",
       "      <td>4</td>\n",
       "      <td>Iskosia90</td>\n",
       "      <td>23</td>\n",
       "      <td>Male</td>\n",
       "      <td>131</td>\n",
       "      <td>Fury</td>\n",
       "      <td>1.44</td>\n",
       "    </tr>\n",
       "  </tbody>\n",
       "</table>\n",
       "</div>"
      ],
      "text/plain": [
       "   Purchase ID             SN  Age Gender  Item ID  \\\n",
       "0            0        Lisim78   20   Male      108   \n",
       "1            1    Lisovynya38   40   Male      143   \n",
       "2            2     Ithergue48   24   Male       92   \n",
       "3            3  Chamassasya86   24   Male      100   \n",
       "4            4      Iskosia90   23   Male      131   \n",
       "\n",
       "                                   Item Name  Price  \n",
       "0  Extraction, Quickblade Of Trembling Hands   3.53  \n",
       "1                          Frenzied Scimitar   1.56  \n",
       "2                               Final Critic   4.88  \n",
       "3                                Blindscythe   3.27  \n",
       "4                                       Fury   1.44  "
      ]
     },
     "execution_count": 30,
     "metadata": {},
     "output_type": "execute_result"
    }
   ],
   "source": [
    "# CSV Path\n",
    "csv_path = \"../Resources/purchase_data.csv\"\n",
    "purchase_df = pd.read_csv(csv_path)\n",
    "\n",
    "purchase_df.head()"
   ]
  },
  {
   "cell_type": "code",
   "execution_count": 31,
   "metadata": {},
   "outputs": [
    {
     "data": {
      "text/plain": [
       "SN\n",
       "Adairialis76    [467]\n",
       "Adastirin33     [142]\n",
       "Aeda94          [388]\n",
       "Aela59           [28]\n",
       "Aelaria33       [630]\n",
       "Name: Purchase ID, dtype: object"
      ]
     },
     "execution_count": 31,
     "metadata": {},
     "output_type": "execute_result"
    }
   ],
   "source": [
    "# ### Player Count\n",
    "\n",
    "\n",
    "# * Total Number of Players\n",
    "player_df = purchase_df.groupby('SN')['Purchase ID'].unique()\n",
    "player_df.head()\n",
    "player_count = len(player_df)\n",
    "# player_count = player_df[\"SN\"].count()\n",
    "\n",
    "# ### Purchasing Analysis (Total)\n",
    "\n",
    "# * Number of Unique Items\n",
    "\n",
    "items_df = purchase_df.groupby('Item ID')['SN'].unique()\n",
    "\n",
    "games_count = len(items_df)\n",
    "\n",
    "# * Average Purchase Price\n",
    "purchase_df['Price'] = purchase_df['Price'].astype(float)\n",
    "\n",
    "# avg_price = round(purchase_df[\"Price\"].sum() / len(purchase_df),2)\n",
    "avg_price = round(purchase_df[\"Price\"].mean(),2)\n",
    "\n",
    "\n",
    "\n",
    "\n",
    "# * Total Number of Purchases\n",
    "\n",
    "purchase_count = purchase_df[\"Purchase ID\"].count()\n",
    "\n",
    "\n",
    "# * Total Revenue\n",
    "total_revenue = purchase_df[\"Price\"].sum() \n",
    "# player_count\n",
    "player_df.head()\n",
    "# player_count"
   ]
  },
  {
   "cell_type": "code",
   "execution_count": 49,
   "metadata": {},
   "outputs": [
    {
     "data": {
      "text/plain": [
       "0.02"
      ]
     },
     "execution_count": 49,
     "metadata": {},
     "output_type": "execute_result"
    }
   ],
   "source": [
    "# ### Gender Demographics\n",
    "\n",
    "# * Percentage and Count of Male Players\n",
    "\n",
    "\n",
    "gender_unique_SN = purchase_df.drop_duplicates(subset=['SN'])\n",
    "# gender_unique_SN.head()\n",
    "df = gender_unique_SN.set_index(\"Gender\")\n",
    "df.head()\n",
    "\n",
    "male_df = df.loc[\"Male\"]\n",
    "female_df = df.loc[\"Female\"]\n",
    "other_df = df.loc[\"Other / Non-Disclosed\"]\n",
    "other_df.head()\n",
    "\n",
    "# male_count = gender_unique_SN['Gender'].count(level=\"Male\")\n",
    "# male_count\n",
    "# gender_counts=gender_df[\"Gender\"].value_counts()\n",
    "\n",
    "count_male = len(male_df)\n",
    "count_female = len(female_df)\n",
    "count_other = len(other_df)\n",
    "\n",
    "pct_male = round(count_male / len(df),2)\n",
    "pct_female = round(count_female / len(df),2)\n",
    "pct_other = round(count_other / len(df),2)\n",
    "\n",
    "\n",
    "# * Percentage and Count of Female Players\n",
    "\n",
    "\n",
    "# * Percentage and Count of Other / Non-Disclosed\n"
   ]
  },
  {
   "cell_type": "code",
   "execution_count": 57,
   "metadata": {},
   "outputs": [
    {
     "data": {
      "text/plain": [
       "4.56"
      ]
     },
     "execution_count": 57,
     "metadata": {},
     "output_type": "execute_result"
    }
   ],
   "source": [
    "# ### Purchasing Analysis (Gender)\n",
    "\n",
    "gender_notunique = purchase_df.set_index(\"Gender\")\n",
    "\n",
    "male2_df = gender_notunique.loc[\"Male\"]\n",
    "female2_df = gender_notunique.loc[\"Female\"]\n",
    "other2_df = gender_notunique.loc[\"Other / Non-Disclosed\"]\n",
    "#   * Purchase Count\n",
    "male_purchases = len(male2_df)\n",
    "female_purchases = len(female2_df)\n",
    "other_purchases = len(other2_df)\n",
    "\n",
    "\n",
    "# male2_df.head()\n",
    "#   * Average Purchase Price\n",
    "avg_male_price = round(male2_df['Price'].mean(),2)\n",
    "\n",
    "avg_female_price = round(female2_df['Price'].mean(),2)\n",
    "\n",
    "avg_other_price = round(other2_df['Price'].mean(),2)\n",
    "\n",
    "\n",
    "#   * Total Purchase Value\n",
    "sum_male_purchases = male2_df['Price'].sum()\n",
    "\n",
    "sum_female_purchases = female2_df['Price'].sum()\n",
    "sum_other_purchases = other2_df['Price'].sum()\n",
    "\n",
    "#   * Average Purchase Total per Person by Gender\n",
    "\n",
    "avg_total_per_person_male = round(sum_male_purchases / count_male,2)\n",
    "avg_total_per_person_female = round(sum_female_purchases / count_female,2)\n",
    "avg_total_per_person_other = round(sum_other_purchases / count_other,2)\n"
   ]
  },
  {
   "cell_type": "code",
   "execution_count": 70,
   "metadata": {},
   "outputs": [
    {
     "data": {
      "text/plain": [
       "Age Group\n",
       "0-4        0\n",
       "5-9       23\n",
       "10-14     28\n",
       "15-19    136\n",
       "20-24    365\n",
       "25-29    101\n",
       "30-34     73\n",
       "35-39     41\n",
       "40-44     12\n",
       "45-49      1\n",
       "50+        0\n",
       "Name: Purchase ID, dtype: int64"
      ]
     },
     "execution_count": 70,
     "metadata": {},
     "output_type": "execute_result"
    }
   ],
   "source": [
    "# ### Age Demographics\n",
    "# * The below each broken into bins of 4 years (i.e. &lt;10, 10-14, 15-19, etc.)\n",
    "bins = [0,4.9,9.9,14.9,19.9,24.9, 29.9,34.9,39.9,44.9, 49.9, 50]\n",
    "group_names = [\"0-4\",\"5-9\",\"10-14\",\"15-19\", \"20-24\", \"25-29\", \"30-34\",\"35-39\",\"40-44\",\"45-49\",\"50+\"]\n",
    "\n",
    "purchase_df[\"Age Group\"] = pd.cut(purchase_df[\"Age\"], bins, labels=group_names, include_lowest=True)\n",
    "purchase_df.head()\n",
    "\n",
    "\n",
    "# agegroup_df = purchase_df.set_index(\"Age Group\")\n",
    "# agegroup_df.head()\n",
    "\n",
    "#   * Purchase Count\n",
    "age_group = purchase_df.groupby(\"Age Group\")\n",
    "age)group_count = age_group[\"Purchase ID\"].count()\n",
    "\n",
    "#   * Average Purchase Price\n",
    "age_group[\"Purchase ID\"].count()\n",
    "#   * Total Purchase Value\n",
    "#   * Average Purchase Total per Person by Age Group"
   ]
  },
  {
   "cell_type": "code",
   "execution_count": null,
   "metadata": {},
   "outputs": [],
   "source": [
    "# ### Top Spenders\n",
    "\n",
    "# * Identify the the top 5 spenders in the game by total purchase value, then list (in a table):\n",
    "#   * SN\n",
    "#   * Purchase Count\n",
    "#   * Average Purchase Price\n",
    "#   * Total Purchase Value"
   ]
  },
  {
   "cell_type": "code",
   "execution_count": null,
   "metadata": {},
   "outputs": [],
   "source": [
    "# ### Most Popular Items\n",
    "\n",
    "# * Identify the 5 most popular items by purchase count, then list (in a table):\n",
    "#   * Item ID\n",
    "#   * Item Name\n",
    "#   * Purchase Count\n",
    "#   * Item Price\n",
    "#   * Total Purchase Value"
   ]
  },
  {
   "cell_type": "code",
   "execution_count": null,
   "metadata": {},
   "outputs": [],
   "source": [
    "# ### Most Profitable Items\n",
    "# * Identify the 5 most profitable items by total purchase value, then list (in a table):\n",
    "#   * Item ID\n",
    "#   * Item Name\n",
    "#   * Purchase Count\n",
    "#   * Item Price\n",
    "#   * Total Purchase Value"
   ]
  }
 ],
 "metadata": {
  "kernelspec": {
   "display_name": "Python 3",
   "language": "python",
   "name": "python3"
  },
  "language_info": {
   "codemirror_mode": {
    "name": "ipython",
    "version": 3
   },
   "file_extension": ".py",
   "mimetype": "text/x-python",
   "name": "python",
   "nbconvert_exporter": "python",
   "pygments_lexer": "ipython3",
   "version": "3.8.3"
  }
 },
 "nbformat": 4,
 "nbformat_minor": 2
}
